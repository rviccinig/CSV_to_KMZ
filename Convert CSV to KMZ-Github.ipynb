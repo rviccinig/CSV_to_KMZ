{
 "cells": [
  {
   "cell_type": "code",
   "execution_count": 1,
   "metadata": {},
   "outputs": [],
   "source": [
    "from shapely.geometry import Point, Polygon\n",
    "from shapely import wkt\n",
    "import pandas as pd\n",
    "import simplekml\n",
    "import ogr\n",
    "from shapely.wkb import loads\n",
    "import matplotlib.pyplot as plt"
   ]
  },
  {
   "cell_type": "code",
   "execution_count": 2,
   "metadata": {},
   "outputs": [],
   "source": [
    "#Read CSV\n",
    "df= pd.read_csv ('Traffic_Volumes_for_2018.csv')\n",
    "df['index'] = df.set_index\n",
    "df.columns\n",
    "\n",
    "#Create the volume and Name lists\n",
    "name=list(df['SECNAME'])\n",
    "volume=list(df['VOLUME'])"
   ]
  },
  {
   "cell_type": "code",
   "execution_count": 3,
   "metadata": {},
   "outputs": [],
   "source": [
    "# Convert to WKT Format\n",
    "Lines=df['multilinestring'].apply(wkt.loads)"
   ]
  },
  {
   "cell_type": "code",
   "execution_count": null,
   "metadata": {},
   "outputs": [],
   "source": [
    "# Traffic Distribution\n",
    "df['VOLUME'].plot.hist(grid=True, bins=20, rwidth=0.9,color='#607c8e')"
   ]
  },
  {
   "cell_type": "code",
   "execution_count": null,
   "metadata": {},
   "outputs": [],
   "source": [
    "# create the kml file\n",
    "kml = simplekml.Kml(open=1)\n",
    "pfol = kml.newfolder(name=\"Roads\")"
   ]
  },
  {
   "cell_type": "markdown",
   "metadata": {},
   "source": [
    "# Create CSV File out of KMZ files"
   ]
  },
  {
   "cell_type": "code",
   "execution_count": null,
   "metadata": {
    "scrolled": true
   },
   "outputs": [],
   "source": [
    "# consider there is only one layer available, which is always the case in a shapefile\n",
    "# mind, this scripts only works with WGS, if desired a reprojection can be done\n",
    "\n",
    "\n",
    "f=0\n",
    "for element in Lines:\n",
    "    geom = element\n",
    "    arrcoords = element.to_wkt()\n",
    "    #Creating  the kml Lines\n",
    "    pol = pfol.newlinestring(name=name[f])\n",
    "    #Creates the Style\n",
    "    pol.style.linestyle.width = volume[f]/10000\n",
    "    pol.visibility = 1\n",
    "    #Color\n",
    "    if volume[f]>100000:\n",
    "        pol.style.linestyle.color='ffff0000'\n",
    "    elif (100000>=volume[f]) and (volume[f]>50000):\n",
    "        pol.style.linestyle.color='ff800080'\n",
    "    elif (50000>=volume[f]) and (volume[f]>25000):\n",
    "        pol.style.linestyle.color='ff00ff00'\n",
    "    #pol.style.linestyle.Color.rgb(0, 0, 255)\n",
    "    #pol.altitudemode = 'clampToGround'\n",
    "    pol.extrude = 1\n",
    "    #pol.outerboundaryis = ([(x1,y1),(x2,y2),(x3,y3),(x4,y4),(x1,y1)])\n",
    "    coords = arrcoords.replace('LINESTRING','').replace('(','').replace(')','')\n",
    "    coords = coords.replace('MULTI','')\n",
    "    coords = coords.split(',')\n",
    "    asize = 100\n",
    "    pol.coords = ([(float(coords[j].split()[0]),float(coords[j].split()[1]),asize) for j in range(len(coords))])\n",
    "    f+=1 \n",
    "\n",
    "openShape = None\n",
    "layers = None\n",
    " \n",
    "#save the kml\n",
    "kml.save(r'traffic18.kml')"
   ]
  },
  {
   "cell_type": "code",
   "execution_count": 39,
   "metadata": {},
   "outputs": [
    {
     "ename": "SyntaxError",
     "evalue": "invalid character in identifier (<ipython-input-39-fb43f083e11f>, line 1)",
     "output_type": "error",
     "traceback": [
      "\u001b[1;36m  File \u001b[1;32m\"<ipython-input-39-fb43f083e11f>\"\u001b[1;36m, line \u001b[1;32m1\u001b[0m\n\u001b[1;33m    Red – ff0000ff\u001b[0m\n\u001b[1;37m        ^\u001b[0m\n\u001b[1;31mSyntaxError\u001b[0m\u001b[1;31m:\u001b[0m invalid character in identifier\n"
     ]
    }
   ],
   "source": [
    "# El color Azull se escribe Asi 59acff en hexagesimal\n",
    "\n",
    "Red – ff0000ff\n",
    "Yellow – ff00ffff\n",
    "Blue – ffff0000\n",
    "Green – ff00ff00\n",
    "Purple – ff800080\n",
    "Orange – ff0080ff\n",
    "Brown – ff336699\n",
    "Pink – ffff00ff\n",
    "\n",
    "# El color Azull se escribe Asi 59acff en hexagesimal\n",
    "\n",
    "# Google lo agarra 'ffac59'\n",
    "\n",
    "# La opacidad la dan los primero numeros '99ffac59' en este caso 99\n",
    "\n",
    "#ejemplo Numero 2 el color 'A2627A'\n",
    "#Traduce '997a62a2' , el 99 da 60% de opacidad\n"
   ]
  },
  {
   "cell_type": "code",
   "execution_count": 46,
   "metadata": {},
   "outputs": [
    {
     "data": {
      "text/plain": [
       "Index(['the_geom_x', 'CLASS_x', 'CLASS_CODE_x', 'COMM_CODE_x', 'NAME',\n",
       "       'SECTOR_x', 'SRG_x', 'COMM_STRUCTURE_x', 'community',\n",
       "       'Average Household Income Before Taxes',\n",
       "       'Median Household Income Before Taxes',\n",
       "       'Average Household Income After Taxes',\n",
       "       'Median Household Income After Taxes', 'Similarity', 'the_geom_y',\n",
       "       'CLASS_y', 'CLASS_CODE_y', 'COMM_CODE_y', 'SECTOR_y', 'SRG_y',\n",
       "       'COMM_STRUCTURE_y'],\n",
       "      dtype='object')"
      ]
     },
     "execution_count": 46,
     "metadata": {},
     "output_type": "execute_result"
    }
   ],
   "source": [
    "#Creating Polygon With Height for income\n",
    "#read CSV\n",
    "\n",
    "#The one with the Incomes\n",
    "df1= pd.read_excel('Household_Income_by_community.xlsx', sheet_name='Househol_Income_by_community')\n",
    "#The one with the boundaries that actually work. if polygons are too big csvs have trouble reading them.\n",
    "df2= pd.read_csv('Community_Boundaries_layer (4).csv')\n",
    "\n",
    "# Merged Dataframe\n",
    "merged_inner = pd.merge(left=df1, right=df2, left_on='NAME', right_on='NAME')\n"
   ]
  },
  {
   "cell_type": "code",
   "execution_count": 53,
   "metadata": {},
   "outputs": [
    {
     "data": {
      "text/plain": [
       "Index(['NAME', 'the_geom_y', 'CLASS_x', 'CLASS_CODE_x',\n",
       "       'Average Household Income Before Taxes',\n",
       "       'Median Household Income Before Taxes',\n",
       "       'Average Household Income After Taxes'],\n",
       "      dtype='object')"
      ]
     },
     "execution_count": 53,
     "metadata": {},
     "output_type": "execute_result"
    }
   ],
   "source": [
    "#Selecting Relevant columns\n",
    "final = merged_inner[['NAME','the_geom_y','CLASS_x','CLASS_CODE_x','Average Household Income Before Taxes','Median Household Income Before Taxes','Average Household Income After Taxes',]]\n",
    "final.columns"
   ]
  },
  {
   "cell_type": "code",
   "execution_count": 54,
   "metadata": {},
   "outputs": [],
   "source": [
    "#Create the income and Name lists\n",
    "name=list(final['NAME'])\n",
    "income=list(final['Average Household Income After Taxes'])"
   ]
  },
  {
   "cell_type": "code",
   "execution_count": 55,
   "metadata": {},
   "outputs": [
    {
     "data": {
      "text/plain": [
       "<matplotlib.axes._subplots.AxesSubplot at 0x19645245460>"
      ]
     },
     "execution_count": 55,
     "metadata": {},
     "output_type": "execute_result"
    },
    {
     "data": {
      "image/png": "[encoded data removed]",
      "text/plain": [
       "<Figure size 432x288 with 1 Axes>"
      ]
     },
     "metadata": {
      "needs_background": "light"
     },
     "output_type": "display_data"
    }
   ],
   "source": [
    "# Traffic Distribution\n",
    "final['Average Household Income After Taxes'].plot.hist(grid=True, bins=20, rwidth=0.9,color='#607c8e')"
   ]
  },
  {
   "cell_type": "code",
   "execution_count": 56,
   "metadata": {
    "scrolled": true
   },
   "outputs": [
    {
     "data": {
      "text/plain": [
       "0      POLYGON ((-114.22789207041 51.098837217909, -1...\n",
       "1      POLYGON ((-114.038291510513 51.058515245307, -...\n",
       "2      POLYGON ((-114.143597981417 51.102049647243, -...\n",
       "3      POLYGON ((-114.140561015713 51.022621622291, -...\n",
       "4      POLYGON ((-114.128994616828 51.085431257414, -...\n",
       "                             ...                        \n",
       "304    POLYGON ((-113.973085944855 51.172498840563, -...\n",
       "305    POLYGON ((-114.060116930634 51.051542666496, -...\n",
       "306    POLYGON ((-113.990670308374 51.154312897175, -...\n",
       "307    POLYGON ((-114.116577134969 50.892143346321, -...\n",
       "308    POLYGON ((-113.91839732026 51.176069026251, -1...\n",
       "Name: the_geom_y, Length: 309, dtype: object"
      ]
     },
     "execution_count": 56,
     "metadata": {},
     "output_type": "execute_result"
    }
   ],
   "source": [
    "# Convert to WKT Format\n",
    "Polygon=final['the_geom_y'].apply(wkt.loads)\n",
    "Polygon"
   ]
  },
  {
   "cell_type": "code",
   "execution_count": 85,
   "metadata": {},
   "outputs": [],
   "source": [
    "# create the kml file\n",
    "kml = simplekml.Kml(open=1)\n",
    "pfol = kml.newfolder(name=\"Incomes\")\n"
   ]
  },
  {
   "cell_type": "code",
   "execution_count": 86,
   "metadata": {},
   "outputs": [],
   "source": [
    "# consider there is only one layer available, which is always the case in a shapefile\n",
    "# mind, this scripts only works with WGS, if desired a reprojection can be done\n",
    "\n",
    "\n",
    "f=0\n",
    "for element in Polygon:\n",
    "    geom = element\n",
    "    arrcoords = element.to_wkt()\n",
    "    # the part that creates the kml\n",
    "    pol = pfol.newpolygon(name=name[f])\n",
    "    pol.visibility = 1\n",
    "    #Color\n",
    "    if income[f]>200000:\n",
    "        pol.style.polystyle.color= simplekml.Color.rgb(140, 45, 4,150)\n",
    "    elif (200000>=income[f]) and (income[f]>175000):\n",
    "        pol.style.polystyle.color=simplekml.Color.rgb(204, 76, 2,150)\n",
    "    elif (175000>=income[f]) and (income[f]>150000):\n",
    "        pol.style.polystyle.color=simplekml.Color.rgb(236, 112, 20,150)\n",
    "    elif (150000>=income[f]) and (income[f]>125000):\n",
    "        pol.style.polystyle.color=simplekml.Color.rgb(254,153, 41,150)    \n",
    "    elif (125000>=income[f]) and (income[f]>100000):\n",
    "        pol.style.polystyle.color=simplekml.Color.rgb(254, 196, 79,150)\n",
    "    elif (100000>=income[f]) and (income[f]>75000):\n",
    "        pol.style.polystyle.color=simplekml.Color.rgb(254, 227, 145,150)\n",
    "    elif (75000>=income[f]) and (income[f]>50000):\n",
    "        pol.style.polystyle.color=simplekml.Color.rgb(255, 247,188,150)\n",
    "    else:\n",
    "        pol.style.polystyle.color='325a00'\n",
    "    pol.altitudemode = 'clampToGround'\n",
    "    pol.extrude = 1\n",
    "    #pol.outerboundaryis = ([(x1,y1),(x2,y2),(x3,y3),(x4,y4),(x1,y1)])\n",
    "    coords = arrcoords.replace('POLYGON','').replace('(','').replace(')','')\n",
    "    coords = coords.replace('MULTI','')\n",
    "    coords = coords.split(',')\n",
    "    asize = 1\n",
    "    pol.outerboundaryis = ([(float(coords[j].split()[0]),float(coords[j].split()[1]),asize) for j in range(len(coords))])\n",
    "    f+=1 \n",
    " \n",
    "openShape = None\n",
    "layers = None\n",
    " \n",
    "# save the kml\n",
    "kml.save(r'Income_per_community.kml')\n"
   ]
  },
  {
   "cell_type": "code",
   "execution_count": 141,
   "metadata": {},
   "outputs": [
    {
     "data": {
      "text/plain": [
       "Index(['Ward',\n",
       "       'Total - Household total income groups in 2015 for private households - 25% sample data',\n",
       "       'Under $20,000', '$20,000 to $39,999', '$40,000 to $59,999',\n",
       "       '$60,000 to $79,999', '$80,000 to $99,999', '$100,000 to $124,999',\n",
       "       '$125,000 to $149,999', '$150,000 to $199,999', '$200,000 and over',\n",
       "       'polygon', 'people'],\n",
       "      dtype='object')"
      ]
     },
     "execution_count": 141,
     "metadata": {},
     "output_type": "execute_result"
    },
    {
     "data": {
      "image/png": "[encoded data removed]",
      "text/plain": [
       "<Figure size 432x288 with 1 Axes>"
      ]
     },
     "metadata": {
      "needs_background": "light"
     },
     "output_type": "display_data"
    }
   ],
   "source": [
    "#Income by ward ML\n",
    "\n",
    "#The one with the Incomes\n",
    "df= pd.read_csv('Income_Ward_Calgary.csv')\n",
    "#People with over 100,000 in income\n",
    "df['$100,000 to $124,999'] = df['$100,000 to $124,999'].str.replace(r',', '').astype(int)\n",
    "df['$125,000 to $149,999'] = df['$125,000 to $149,999'].str.replace(r',', '').astype(int)\n",
    "df['$150,000 to $199,999'] = df['$150,000 to $199,999'].str.replace(r',', '').astype(int)\n",
    "df['$200,000 and over'] = df['$200,000 and over'].str.replace(r',', '').astype(int)\n",
    "\n",
    "#Creating column\n",
    "df['people']=df['$100,000 to $124,999']+df['$125,000 to $149,999']+df['$150,000 to $199,999']+df['$200,000 and over']\n",
    "\n",
    "#Create the income and Name lists\n",
    "name=list(df['Ward'])\n",
    "income=list(df['people'])\n",
    "\n",
    "#histogram\n",
    "df['people'].plot.hist(grid=True, bins=20, rwidth=0.9,color='#607c8e')\n",
    "df.columns\n"
   ]
  },
  {
   "cell_type": "code",
   "execution_count": null,
   "metadata": {},
   "outputs": [],
   "source": [
    "# consider there is only one layer available, which is always the case in a shapefile\n",
    "# mind, this scripts only works with WGS, if desired a reprojection can be done\n",
    "# create the kml file\n",
    "kml = simplekml.Kml(open=1)\n",
    "pfol = kml.newfolder(name=\"Incomes\")\n",
    "\n",
    "#Create the polygons from the csv\n",
    "# Convert to WKT Format\n",
    "Polygon=df['polygon'].apply(wkt.loads)\n",
    "Polygon\n",
    "\n",
    "#Loop\n",
    "\n",
    "f=0\n",
    "for element in Polygon:\n",
    "    geom = element\n",
    "    arrcoords = element.to_wkt()\n",
    "    # the part that creates the kml\n",
    "    pol = pfol.newpolygon(name=name[f])\n",
    "    pol.visibility = 1\n",
    "    #Color\n",
    "    #if income[f]>200000:\n",
    "    #    pol.style.polystyle.color= simplekml.Color.rgb(140, 45, 4,150)\n",
    "    #elif (200000>=income[f]) and (income[f]>175000):\n",
    "    #    pol.style.polystyle.color=simplekml.Color.rgb(204, 76, 2,150)\n",
    "    #elif (175000>=income[f]) and (income[f]>150000):\n",
    "    #    pol.style.polystyle.color=simplekml.Color.rgb(236, 112, 20,150)\n",
    "    #elif (150000>=income[f]) and (income[f]>125000):\n",
    "    #    pol.style.polystyle.color=simplekml.Color.rgb(254,153, 41,150)    \n",
    "    #elif (125000>=income[f]) and (income[f]>100000):\n",
    "    #    pol.style.polystyle.color=simplekml.Color.rgb(254, 196, 79,150)\n",
    "    #elif (100000>=income[f]) and (income[f]>75000):\n",
    "    #    pol.style.polystyle.color=simplekml.Color.rgb(254, 227, 145,150)\n",
    "    #elif (75000>=income[f]) and (income[f]>50000):\n",
    "    #    pol.style.polystyle.color=simplekml.Color.rgb(255, 247,188,150)\n",
    "    #else:\n",
    "    #    pol.style.polystyle.color='325a00'\n",
    "    pol.altitudemode = 'relativeToGround'\n",
    "    pol.extrude = 1\n",
    "    #pol.outerboundaryis = ([(x1,y1),(x2,y2),(x3,y3),(x4,y4),(x1,y1)])\n",
    "    coords = arrcoords.replace('POLYGON','').replace('(','').replace(')','')\n",
    "    coords = coords.replace('MULTI','')\n",
    "    coords = coords.split(',')\n",
    "    altitude_size = income[f]/100\n",
    "    pol.outerboundaryis = ([(float(coords[j].split()[0]),float(coords[j].split()[1]),altitude_size) for j in range(len(coords))])\n",
    "    pol.innerboundaryis=([(float(coords[j].split()[0]),float(coords[j].split()[1]),altitude_size) for j in range(len(coords))])\n",
    "    f+=1 \n",
    " \n",
    "openShape = None\n",
    "layers = None\n",
    " \n",
    "# save the kml\n",
    "kml.save(r'People_per_Ward.kml')\n",
    "\n"
   ]
  }
 ],
 "metadata": {
  "kernelspec": {
   "display_name": "Python 3",
   "language": "python",
   "name": "python3"
  },
  "language_info": {
   "codemirror_mode": {
    "name": "ipython",
    "version": 3
   },
   "file_extension": ".py",
   "mimetype": "text/x-python",
   "name": "python",
   "nbconvert_exporter": "python",
   "pygments_lexer": "ipython3",
   "version": "3.8.3"
  }
 },
 "nbformat": 4,
 "nbformat_minor": 2
}
